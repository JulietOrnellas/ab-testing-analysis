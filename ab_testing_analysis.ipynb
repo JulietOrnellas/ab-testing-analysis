{
 "cells": [
  {
   "cell_type": "markdown",
   "metadata": {},
   "source": [
    "# Filtering Out Drop‑Outs: Udacity AB Test on Time‑Commitment Reminder  \n",
    "\n",
    "Udacity A/B‑tested a quick **“this course takes real time”** reminder displayed right before the two enrollment options.  \n",
    "The goal was to see if this heads‑up would discourage casual learners from starting the 14‑day credit‑card trial, while still letting anyone grab the free videos and quizzes.  \n",
    "In short, it’s a reality‑check nudge aimed at reducing churn and keeping the cohort full of committed students."
   ]
  },
  {
   "cell_type": "code",
   "execution_count": null,
   "metadata": {},
   "outputs": [],
   "source": [
    "# Import Libraries\n",
    "import pandas as pd\n",
    "import numpy as np\n",
    "import matplotlib.pyplot as plt\n",
    "from scipy.stats import chi2_contingency"
   ]
  },
  {
   "cell_type": "code",
   "execution_count": null,
   "metadata": {},
   "outputs": [
    {
     "name": "stdout",
     "output_type": "stream",
     "text": [
      "Dataset Shape: (999, 10)\n",
      "Preview of the Data:\n",
      "          Date  C-Pageviews  C-Clicks  C-Enrollments  C-Payments  E-Pageviews  \\\n",
      "0  Sat, Oct 11       7723.0     687.0          134.0        70.0       7716.0   \n",
      "1  Sun, Oct 12       9102.0     779.0          147.0        70.0       9288.0   \n",
      "2  Mon, Oct 13      10511.0     909.0          167.0        95.0      10480.0   \n",
      "3  Tue, Oct 14       9871.0     836.0          156.0       105.0       9867.0   \n",
      "4  Wed, Oct 15      10014.0     837.0          163.0        64.0       9793.0   \n",
      "\n",
      "   E-Clicks  E-Enrollments  E-Payments  Unnamed: 9  \n",
      "0     686.0          105.0        34.0         NaN  \n",
      "1     785.0          116.0        91.0         NaN  \n",
      "2     884.0          145.0        79.0         NaN  \n",
      "3     827.0          138.0        92.0         NaN  \n",
      "4     832.0          140.0        94.0         NaN  \n"
     ]
    }
   ],
   "source": [
    "# Load the AB test dataset \n",
    "\n",
    "data_url =  'https://raw.githubusercontent.com/bloominstituteoftechnology/data-science-practice-datasets/main/unit_1/Udacity%20AB%20testing%20data/AB_test_clicks.csv'\n",
    "ABtest = pd.read_csv(data_url, skipinitialspace=True)\n",
    "\n",
    "# Displaying the shape and preview for the first few rows\n",
    "print(f\"Dataset Shape: {ABtest_data.shape}\")\n",
    "print(\"Preview of the Data:\")\n",
    "print(ABtest_data.head())"
   ]
  },
  {
   "cell_type": "code",
   "execution_count": null,
   "metadata": {},
   "outputs": [
    {
     "name": "stdout",
     "output_type": "stream",
     "text": [
      "\n",
      "Experiment Group Distribution:\n",
      "Group\n",
      "Control       0.50064\n",
      "Experiment    0.49936\n",
      "Name: proportion, dtype: float64\n",
      "Click\n",
      "0    633500\n",
      "1     56703\n",
      "Name: count, dtype: int64\n"
     ]
    }
   ],
   "source": [
    "# Analyze the Experiment Group Distribution\n",
    "# Count the frequency of each experiment group \n",
    "print(\"\\nExperiment Group Distribution:\")\n",
    "group_counts = ABtest['Group'].value_counts(normalize = True)\n",
    "print(group_counts)\n",
    "\n",
    "# Analyze Click Frequency\n",
    "click_counts = ABtest['Click'].value_counts()\n",
    "print (click_counts)"
   ]
  },
  {
   "cell_type": "code",
   "execution_count": null,
   "metadata": {},
   "outputs": [
    {
     "name": "stdout",
     "output_type": "stream",
     "text": [
      "\n",
      "Joint Distribution (Group vs Click):\n",
      "Click            0      1\n",
      "Group                    \n",
      "Control     317165  28378\n",
      "Experiment  316335  28325\n"
     ]
    }
   ],
   "source": [
    "# Joint Distribution of Group vs Click\n",
    "# Create a contingency table to analyze the joint distribution\n",
    "\n",
    "joint = pd.crosstab(index = ABtest ['Group'], columns = ABtest ['Click'])\n",
    "print(\"\\nJoint Distribution (Group vs Click):\")\n",
    "print(joint)\n",
    "\n"
   ]
  },
  {
   "cell_type": "code",
   "execution_count": null,
   "metadata": {},
   "outputs": [
    {
     "name": "stdout",
     "output_type": "stream",
     "text": [
      "Marginal Distribution with Totals:\n",
      "Click            0      1     All\n",
      "Group                            \n",
      "Control     317165  28378  345543\n",
      "Experiment  316335  28325  344660\n",
      "All         633500  56703  690203\n"
     ]
    }
   ],
   "source": [
    "# Marginal Distribution with totals \n",
    "\n",
    "marginal_distr = pd.crosstab(\n",
    "    index = ABtest ['Group'], columns = ABtest ['Click'], margins = True\n",
    ")\n",
    "print (\"Marginal Distribution with Totals:\")\n",
    "print(marginal_distr)"
   ]
  },
  {
   "cell_type": "code",
   "execution_count": null,
   "metadata": {},
   "outputs": [
    {
     "name": "stdout",
     "output_type": "stream",
     "text": [
      "\n",
      "Conditional Distribution (Normalized):\n",
      "Click               0         1\n",
      "Group                          \n",
      "Control     91.787419  8.212581\n",
      "Experiment  91.781756  8.218244\n"
     ]
    },
    {
     "data": {
      "image/png": "[encoded data removed]",
      "text/plain": [
       "<Figure size 800x600 with 1 Axes>"
      ]
     },
     "metadata": {},
     "output_type": "display_data"
    }
   ],
   "source": [
    "# Conditional distribution, normalize by rows, converted to percentages\n",
    "\n",
    "conditional_distr = pd.crosstab(\n",
    "    index = ABtest ['Group'], columns = ABtest ['Click'], normalize = 'index'\n",
    ") * 100\n",
    "print(\"\\nConditional Distribution (Normalized):\")\n",
    "print(conditional_distr)\n",
    "\n",
    "# Visualizing Conditional Distribution\n",
    "\n",
    "conditional_distr.plot(kind=\"bar\", figsize=(8, 6))\n",
    "plt.title(\"Conditional Distribution of Clicks by Group\")\n",
    "plt.ylabel(\"Percentage\")\n",
    "plt.xlabel(\"Group\")\n",
    "plt.legend(title=\"Click\")\n",
    "plt.show()\n"
   ]
  },
  {
   "cell_type": "code",
   "execution_count": 22,
   "metadata": {},
   "outputs": [
    {
     "name": "stdout",
     "output_type": "stream",
     "text": [
      "\n",
      "Chi-Square Test Results:\n",
      "Chi-Square Statistic: 0.006606036478633042\n",
      "p-value: 0.9352212452988706\n",
      "Degrees of Freedom: 1\n"
     ]
    }
   ],
   "source": [
    "# Chi-Square Test of Independence\n",
    "\n",
    "g,p, dof, expctd = chi2_contingency(joint)\n",
    "\n",
    "print(\"\\nChi-Square Test Results:\")\n",
    "print(f\"Chi-Square Statistic: {g}\")\n",
    "print(f\"p-value: {p}\")\n",
    "print(f\"Degrees of Freedom: {dof}\")"
   ]
  },
  {
   "cell_type": "code",
   "execution_count": 23,
   "metadata": {},
   "outputs": [
    {
     "name": "stdout",
     "output_type": "stream",
     "text": [
      "There is no significant relationship between the group and the click variable.\n"
     ]
    }
   ],
   "source": [
    "# Check statistical significance\n",
    "\n",
    "# If the p-value is less than 0.05, reject the null hypothesis and conclude that the variables are dependent\n",
    "if p < 0.05:\n",
    "    print(\"There is a significant relationship between the group and the click variable.\")\n",
    "else:\n",
    "    print(\"There is no significant relationship between the group and the click variable.\")\n"
   ]
  }
 ],
 "metadata": {
  "kernelspec": {
   "display_name": "Python 3",
   "language": "python",
   "name": "python3"
  },
  "language_info": {
   "codemirror_mode": {
    "name": "ipython",
    "version": 3
   },
   "file_extension": ".py",
   "mimetype": "text/x-python",
   "name": "python",
   "nbconvert_exporter": "python",
   "pygments_lexer": "ipython3",
   "version": "3.12.3"
  }
 },
 "nbformat": 4,
 "nbformat_minor": 2
}
